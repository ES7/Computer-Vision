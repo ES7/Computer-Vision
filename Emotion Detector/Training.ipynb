{
 "cells": [
  {
   "cell_type": "code",
   "execution_count": 2,
   "id": "2577a8cc",
   "metadata": {},
   "outputs": [],
   "source": [
    "import cv2\n",
    "from keras.models import Sequential\n",
    "from keras.layers import Conv2D, MaxPooling2D, Dense, Dropout, Flatten\n",
    "from keras.optimizers.legacy import Adam\n",
    "from keras.preprocessing.image import ImageDataGenerator"
   ]
  },
  {
   "cell_type": "code",
   "execution_count": 3,
   "id": "c986464d",
   "metadata": {},
   "outputs": [],
   "source": [
    "train_data_gen = ImageDataGenerator(rescale=1./255)\n",
    "validation_data_gen = ImageDataGenerator(rescale=1./255)"
   ]
  },
  {
   "cell_type": "code",
   "execution_count": 4,
   "id": "51b15e16",
   "metadata": {},
   "outputs": [
    {
     "name": "stdout",
     "output_type": "stream",
     "text": [
      "Found 28709 images belonging to 7 classes.\n"
     ]
    }
   ],
   "source": [
    "train_generator = train_data_gen.flow_from_directory(\n",
    "        'data/train',\n",
    "        target_size=(48, 48),\n",
    "        batch_size=64,\n",
    "        color_mode=\"grayscale\",\n",
    "        class_mode='categorical')"
   ]
  },
  {
   "cell_type": "code",
   "execution_count": 5,
   "id": "e433f265",
   "metadata": {},
   "outputs": [
    {
     "name": "stdout",
     "output_type": "stream",
     "text": [
      "Found 7178 images belonging to 7 classes.\n"
     ]
    }
   ],
   "source": [
    "validation_generator = validation_data_gen.flow_from_directory(\n",
    "        'data/test',\n",
    "        target_size=(48, 48),\n",
    "        batch_size=64,\n",
    "        color_mode=\"grayscale\",\n",
    "        class_mode='categorical')"
   ]
  },
  {
   "cell_type": "code",
   "execution_count": 6,
   "id": "dfcb0f55",
   "metadata": {},
   "outputs": [],
   "source": [
    "emotion_model = Sequential()\n",
    "\n",
    "emotion_model.add(Conv2D(32, kernel_size=(3, 3), activation='relu', input_shape=(48, 48, 1)))\n",
    "emotion_model.add(Conv2D(64, kernel_size=(3, 3), activation='relu'))\n",
    "emotion_model.add(MaxPooling2D(pool_size=(2, 2)))\n",
    "emotion_model.add(Dropout(0.25))\n",
    "\n",
    "emotion_model.add(Conv2D(128, kernel_size=(3, 3), activation='relu'))\n",
    "emotion_model.add(MaxPooling2D(pool_size=(2, 2)))\n",
    "emotion_model.add(Conv2D(128, kernel_size=(3, 3), activation='relu'))\n",
    "emotion_model.add(MaxPooling2D(pool_size=(2, 2)))\n",
    "emotion_model.add(Dropout(0.25))\n",
    "\n",
    "emotion_model.add(Flatten())\n",
    "emotion_model.add(Dense(1024, activation='relu'))\n",
    "emotion_model.add(Dropout(0.5))\n",
    "emotion_model.add(Dense(7, activation='softmax'))"
   ]
  },
  {
   "cell_type": "code",
   "execution_count": 7,
   "id": "2501e918",
   "metadata": {},
   "outputs": [
    {
     "name": "stdout",
     "output_type": "stream",
     "text": [
      "Model: \"sequential\"\n",
      "_________________________________________________________________\n",
      " Layer (type)                Output Shape              Param #   \n",
      "=================================================================\n",
      " conv2d (Conv2D)             (None, 46, 46, 32)        320       \n",
      "                                                                 \n",
      " conv2d_1 (Conv2D)           (None, 44, 44, 64)        18496     \n",
      "                                                                 \n",
      " max_pooling2d (MaxPooling2  (None, 22, 22, 64)        0         \n",
      " D)                                                              \n",
      "                                                                 \n",
      " dropout (Dropout)           (None, 22, 22, 64)        0         \n",
      "                                                                 \n",
      " conv2d_2 (Conv2D)           (None, 20, 20, 128)       73856     \n",
      "                                                                 \n",
      " max_pooling2d_1 (MaxPoolin  (None, 10, 10, 128)       0         \n",
      " g2D)                                                            \n",
      "                                                                 \n",
      " conv2d_3 (Conv2D)           (None, 8, 8, 128)         147584    \n",
      "                                                                 \n",
      " max_pooling2d_2 (MaxPoolin  (None, 4, 4, 128)         0         \n",
      " g2D)                                                            \n",
      "                                                                 \n",
      " dropout_1 (Dropout)         (None, 4, 4, 128)         0         \n",
      "                                                                 \n",
      " flatten (Flatten)           (None, 2048)              0         \n",
      "                                                                 \n",
      " dense (Dense)               (None, 1024)              2098176   \n",
      "                                                                 \n",
      " dropout_2 (Dropout)         (None, 1024)              0         \n",
      "                                                                 \n",
      " dense_1 (Dense)             (None, 7)                 7175      \n",
      "                                                                 \n",
      "=================================================================\n",
      "Total params: 2345607 (8.95 MB)\n",
      "Trainable params: 2345607 (8.95 MB)\n",
      "Non-trainable params: 0 (0.00 Byte)\n",
      "_________________________________________________________________\n"
     ]
    }
   ],
   "source": [
    "emotion_model.summary()"
   ]
  },
  {
   "cell_type": "code",
   "execution_count": 8,
   "id": "b891b8e1",
   "metadata": {},
   "outputs": [
    {
     "name": "stderr",
     "output_type": "stream",
     "text": [
      "C:\\Users\\sayed\\AppData\\Local\\Programs\\Python\\Python311\\Lib\\site-packages\\keras\\src\\optimizers\\legacy\\adam.py:118: UserWarning: The `lr` argument is deprecated, use `learning_rate` instead.\n",
      "  super().__init__(name, **kwargs)\n"
     ]
    }
   ],
   "source": [
    "cv2.ocl.setUseOpenCL(False)\n",
    "\n",
    "emotion_model.compile(loss='categorical_crossentropy', optimizer=Adam(lr=0.0001, decay=1e-6), metrics=['accuracy'])"
   ]
  },
  {
   "cell_type": "code",
   "execution_count": 9,
   "id": "41d0c9d4",
   "metadata": {
    "scrolled": true
   },
   "outputs": [
    {
     "name": "stdout",
     "output_type": "stream",
     "text": [
      "Epoch 1/50\n"
     ]
    },
    {
     "name": "stderr",
     "output_type": "stream",
     "text": [
      "C:\\Users\\sayed\\AppData\\Local\\Temp\\ipykernel_17976\\1151617337.py:1: UserWarning: `Model.fit_generator` is deprecated and will be removed in a future version. Please use `Model.fit`, which supports generators.\n",
      "  emotion_model_info = emotion_model.fit_generator(\n"
     ]
    },
    {
     "name": "stdout",
     "output_type": "stream",
     "text": [
      "448/448 [==============================] - 60s 133ms/step - loss: 1.8059 - accuracy: 0.2585 - val_loss: 1.7298 - val_accuracy: 0.3274\n",
      "Epoch 2/50\n",
      "448/448 [==============================] - 59s 131ms/step - loss: 1.6503 - accuracy: 0.3543 - val_loss: 1.5833 - val_accuracy: 0.4028\n",
      "Epoch 3/50\n",
      "448/448 [==============================] - 58s 129ms/step - loss: 1.5495 - accuracy: 0.3993 - val_loss: 1.4835 - val_accuracy: 0.4297\n",
      "Epoch 4/50\n",
      "448/448 [==============================] - 59s 132ms/step - loss: 1.4797 - accuracy: 0.4308 - val_loss: 1.4176 - val_accuracy: 0.4594\n",
      "Epoch 5/50\n",
      "448/448 [==============================] - 60s 133ms/step - loss: 1.4155 - accuracy: 0.4594 - val_loss: 1.3673 - val_accuracy: 0.4805\n",
      "Epoch 6/50\n",
      "448/448 [==============================] - 59s 131ms/step - loss: 1.3624 - accuracy: 0.4811 - val_loss: 1.3195 - val_accuracy: 0.4992\n",
      "Epoch 7/50\n",
      "448/448 [==============================] - 58s 130ms/step - loss: 1.3120 - accuracy: 0.5017 - val_loss: 1.2914 - val_accuracy: 0.5061\n",
      "Epoch 8/50\n",
      "448/448 [==============================] - 58s 130ms/step - loss: 1.2729 - accuracy: 0.5158 - val_loss: 1.2539 - val_accuracy: 0.5211\n",
      "Epoch 9/50\n",
      "448/448 [==============================] - 59s 131ms/step - loss: 1.2412 - accuracy: 0.5303 - val_loss: 1.2205 - val_accuracy: 0.5325\n",
      "Epoch 10/50\n",
      "448/448 [==============================] - 59s 133ms/step - loss: 1.2067 - accuracy: 0.5435 - val_loss: 1.2083 - val_accuracy: 0.5406\n",
      "Epoch 11/50\n",
      "448/448 [==============================] - 60s 133ms/step - loss: 1.1766 - accuracy: 0.5568 - val_loss: 1.1866 - val_accuracy: 0.5439\n",
      "Epoch 12/50\n",
      "448/448 [==============================] - 59s 132ms/step - loss: 1.1480 - accuracy: 0.5683 - val_loss: 1.1804 - val_accuracy: 0.5508\n",
      "Epoch 13/50\n",
      "448/448 [==============================] - 58s 130ms/step - loss: 1.1212 - accuracy: 0.5771 - val_loss: 1.1571 - val_accuracy: 0.5582\n",
      "Epoch 14/50\n",
      "448/448 [==============================] - 59s 132ms/step - loss: 1.0934 - accuracy: 0.5923 - val_loss: 1.1356 - val_accuracy: 0.5718\n",
      "Epoch 15/50\n",
      "448/448 [==============================] - 60s 133ms/step - loss: 1.0691 - accuracy: 0.6016 - val_loss: 1.1335 - val_accuracy: 0.5693\n",
      "Epoch 16/50\n",
      "448/448 [==============================] - 59s 131ms/step - loss: 1.0468 - accuracy: 0.6101 - val_loss: 1.1089 - val_accuracy: 0.5773\n",
      "Epoch 17/50\n",
      "448/448 [==============================] - 59s 133ms/step - loss: 1.0207 - accuracy: 0.6228 - val_loss: 1.1053 - val_accuracy: 0.5829\n",
      "Epoch 18/50\n",
      "448/448 [==============================] - 59s 132ms/step - loss: 0.9980 - accuracy: 0.6304 - val_loss: 1.0965 - val_accuracy: 0.5939\n",
      "Epoch 19/50\n",
      "448/448 [==============================] - 59s 132ms/step - loss: 0.9782 - accuracy: 0.6380 - val_loss: 1.0952 - val_accuracy: 0.5848\n",
      "Epoch 20/50\n",
      "448/448 [==============================] - 59s 132ms/step - loss: 0.9545 - accuracy: 0.6478 - val_loss: 1.0792 - val_accuracy: 0.5963\n",
      "Epoch 21/50\n",
      "448/448 [==============================] - 59s 131ms/step - loss: 0.9298 - accuracy: 0.6579 - val_loss: 1.0753 - val_accuracy: 0.5997\n",
      "Epoch 22/50\n",
      "448/448 [==============================] - 58s 130ms/step - loss: 0.9012 - accuracy: 0.6667 - val_loss: 1.0787 - val_accuracy: 0.5993\n",
      "Epoch 23/50\n",
      "448/448 [==============================] - 58s 130ms/step - loss: 0.8812 - accuracy: 0.6797 - val_loss: 1.0792 - val_accuracy: 0.6024\n",
      "Epoch 24/50\n",
      "448/448 [==============================] - 59s 132ms/step - loss: 0.8618 - accuracy: 0.6828 - val_loss: 1.0688 - val_accuracy: 0.6030\n",
      "Epoch 25/50\n",
      "448/448 [==============================] - 59s 132ms/step - loss: 0.8378 - accuracy: 0.6943 - val_loss: 1.0669 - val_accuracy: 0.6077\n",
      "Epoch 26/50\n",
      "448/448 [==============================] - 58s 130ms/step - loss: 0.8164 - accuracy: 0.7023 - val_loss: 1.0614 - val_accuracy: 0.6099\n",
      "Epoch 27/50\n",
      "448/448 [==============================] - 59s 131ms/step - loss: 0.7887 - accuracy: 0.7110 - val_loss: 1.0729 - val_accuracy: 0.6145\n",
      "Epoch 28/50\n",
      "448/448 [==============================] - 59s 131ms/step - loss: 0.7750 - accuracy: 0.7168 - val_loss: 1.0662 - val_accuracy: 0.6119\n",
      "Epoch 29/50\n",
      "448/448 [==============================] - 59s 131ms/step - loss: 0.7532 - accuracy: 0.7252 - val_loss: 1.0724 - val_accuracy: 0.6106\n",
      "Epoch 30/50\n",
      "448/448 [==============================] - 59s 132ms/step - loss: 0.7237 - accuracy: 0.7389 - val_loss: 1.0692 - val_accuracy: 0.6110\n",
      "Epoch 31/50\n",
      "448/448 [==============================] - 59s 131ms/step - loss: 0.7069 - accuracy: 0.7423 - val_loss: 1.0726 - val_accuracy: 0.6208\n",
      "Epoch 32/50\n",
      "448/448 [==============================] - 61s 136ms/step - loss: 0.6816 - accuracy: 0.7504 - val_loss: 1.0691 - val_accuracy: 0.6177\n",
      "Epoch 33/50\n",
      "448/448 [==============================] - 60s 133ms/step - loss: 0.6585 - accuracy: 0.7622 - val_loss: 1.0798 - val_accuracy: 0.6133\n",
      "Epoch 34/50\n",
      "448/448 [==============================] - 60s 134ms/step - loss: 0.6462 - accuracy: 0.7646 - val_loss: 1.0913 - val_accuracy: 0.6177\n",
      "Epoch 35/50\n",
      "448/448 [==============================] - 62s 139ms/step - loss: 0.6184 - accuracy: 0.7756 - val_loss: 1.0807 - val_accuracy: 0.6197\n",
      "Epoch 36/50\n",
      "448/448 [==============================] - 61s 136ms/step - loss: 0.5978 - accuracy: 0.7833 - val_loss: 1.0881 - val_accuracy: 0.6184\n",
      "Epoch 37/50\n",
      "448/448 [==============================] - 62s 138ms/step - loss: 0.5871 - accuracy: 0.7876 - val_loss: 1.0936 - val_accuracy: 0.6158\n",
      "Epoch 38/50\n",
      "448/448 [==============================] - 62s 137ms/step - loss: 0.5620 - accuracy: 0.7954 - val_loss: 1.1009 - val_accuracy: 0.6215\n",
      "Epoch 39/50\n",
      "448/448 [==============================] - 61s 137ms/step - loss: 0.5446 - accuracy: 0.8039 - val_loss: 1.0953 - val_accuracy: 0.6230\n",
      "Epoch 40/50\n",
      "448/448 [==============================] - 62s 138ms/step - loss: 0.5246 - accuracy: 0.8140 - val_loss: 1.1195 - val_accuracy: 0.6187\n",
      "Epoch 41/50\n",
      "448/448 [==============================] - 61s 136ms/step - loss: 0.5107 - accuracy: 0.8166 - val_loss: 1.1273 - val_accuracy: 0.6208\n",
      "Epoch 42/50\n",
      "448/448 [==============================] - 62s 137ms/step - loss: 0.4972 - accuracy: 0.8216 - val_loss: 1.1187 - val_accuracy: 0.6169\n",
      "Epoch 43/50\n",
      "448/448 [==============================] - 62s 138ms/step - loss: 0.4752 - accuracy: 0.8293 - val_loss: 1.1265 - val_accuracy: 0.6236\n",
      "Epoch 44/50\n",
      "448/448 [==============================] - 61s 136ms/step - loss: 0.4637 - accuracy: 0.8312 - val_loss: 1.1452 - val_accuracy: 0.6242\n",
      "Epoch 45/50\n",
      "448/448 [==============================] - 61s 136ms/step - loss: 0.4519 - accuracy: 0.8363 - val_loss: 1.1542 - val_accuracy: 0.6232\n",
      "Epoch 46/50\n",
      "448/448 [==============================] - 62s 139ms/step - loss: 0.4318 - accuracy: 0.8459 - val_loss: 1.1611 - val_accuracy: 0.6222\n",
      "Epoch 47/50\n",
      "448/448 [==============================] - 62s 138ms/step - loss: 0.4123 - accuracy: 0.8532 - val_loss: 1.1812 - val_accuracy: 0.6244\n",
      "Epoch 48/50\n",
      "448/448 [==============================] - 61s 136ms/step - loss: 0.4011 - accuracy: 0.8582 - val_loss: 1.1882 - val_accuracy: 0.6190\n",
      "Epoch 49/50\n",
      "448/448 [==============================] - 62s 139ms/step - loss: 0.3909 - accuracy: 0.8600 - val_loss: 1.1749 - val_accuracy: 0.6180\n",
      "Epoch 50/50\n",
      "448/448 [==============================] - 61s 135ms/step - loss: 0.3799 - accuracy: 0.8634 - val_loss: 1.2173 - val_accuracy: 0.6239\n"
     ]
    }
   ],
   "source": [
    "emotion_model_info = emotion_model.fit_generator(\n",
    "        train_generator,\n",
    "        steps_per_epoch=28709 // 64,\n",
    "        epochs=50,\n",
    "        validation_data=validation_generator,\n",
    "        validation_steps=7178 // 64)"
   ]
  },
  {
   "cell_type": "code",
   "execution_count": 10,
   "id": "9ccbc3f1",
   "metadata": {},
   "outputs": [],
   "source": [
    "model_json = emotion_model.to_json()\n",
    "with open(\"emotion_model.json\", \"w\") as json_file:\n",
    "    json_file.write(model_json)"
   ]
  },
  {
   "cell_type": "code",
   "execution_count": 11,
   "id": "dc10ba62",
   "metadata": {},
   "outputs": [],
   "source": [
    "emotion_model.save_weights('emotion_model.h5')"
   ]
  },
  {
   "cell_type": "code",
   "execution_count": null,
   "id": "7c918fdb",
   "metadata": {},
   "outputs": [],
   "source": []
  }
 ],
 "metadata": {
  "kernelspec": {
   "display_name": "Python 3 (ipykernel)",
   "language": "python",
   "name": "python3"
  },
  "language_info": {
   "codemirror_mode": {
    "name": "ipython",
    "version": 3
   },
   "file_extension": ".py",
   "mimetype": "text/x-python",
   "name": "python",
   "nbconvert_exporter": "python",
   "pygments_lexer": "ipython3",
   "version": "3.11.4"
  }
 },
 "nbformat": 4,
 "nbformat_minor": 5
}
